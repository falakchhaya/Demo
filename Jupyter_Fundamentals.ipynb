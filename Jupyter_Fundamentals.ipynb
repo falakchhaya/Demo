{
  "nbformat": 4,
  "nbformat_minor": 0,
  "metadata": {
    "colab": {
      "name": "Jupyter_Fundamentals.ipynb",
      "version": "0.3.2",
      "provenance": [],
      "include_colab_link": true
    },
    "kernelspec": {
      "name": "python3",
      "display_name": "Python 3"
    }
  },
  "cells": [
    {
      "cell_type": "markdown",
      "metadata": {
        "id": "view-in-github",
        "colab_type": "text"
      },
      "source": [
        "<a href=\"https://colab.research.google.com/github/falakchhaya/Demo/blob/master/Jupyter_Fundamentals.ipynb\" target=\"_parent\"><img src=\"https://colab.research.google.com/assets/colab-badge.svg\" alt=\"Open In Colab\"/></a>"
      ]
    },
    {
      "metadata": {
        "id": "-kXsy6m7c1zt",
        "colab_type": "code",
        "colab": {}
      },
      "cell_type": "code",
      "source": [
        ""
      ],
      "execution_count": 0,
      "outputs": []
    },
    {
      "metadata": {
        "id": "dqK4b0Myc2ka",
        "colab_type": "text"
      },
      "cell_type": "markdown",
      "source": [
        "# Intro to Jupyter Notebook.\n",
        "\n",
        "Aim is to understand functionalities of Jupyter better and utilize it as efficiently as possible.\n",
        "Also to keep useful shortcuts, tips etc handy. \n",
        "Let's do this !"
      ]
    },
    {
      "metadata": {
        "id": "5KDuHvUdc6E_",
        "colab_type": "code",
        "colab": {}
      },
      "cell_type": "code",
      "source": [
        ""
      ],
      "execution_count": 0,
      "outputs": []
    },
    {
      "metadata": {
        "id": "2NkULzw7ewXO",
        "colab_type": "text"
      },
      "cell_type": "markdown",
      "source": [
        "# History\n",
        "\n",
        "Project Jupyter was born out of IPython project (that now supports multiple languages contrary to just python)\n",
        "The name Jupyter thus comes from **Ju**lia, **Pyt**hon and **R** , the three core languages that it is designed for. "
      ]
    },
    {
      "metadata": {
        "id": "1pYwwJEnqixe",
        "colab_type": "text"
      },
      "cell_type": "markdown",
      "source": [
        "**Ctrl + Shift + P**\n",
        "seems useful, called Command Palette. Lets you run any command by name, even if you don't know its shortcut.\n",
        "It's similar to spotlight search in Mac.\n",
        "\n",
        "**Esc** takes you into command mode and lets you navigate among cells with arrow keys.\n",
        "While in command mode, \n",
        "\n",
        "   > 1) **A** to insert a new cell above current cell, **B** to insert a new cell below current cell.<br>\n",
        "   > 2) For a new line, either print **&lt;br>** or just put two consecutive spaces.\n",
        "   > 3) Regarding escape character, you have to folow html escape characters e.g. I had to use it in above line to type **&lt;br>**  without breaking the line.  \n",
        "   > 4) Pressing **D** twice deletes the current cell . \n",
        "   > \n",
        "  \n",
        "    \n",
        "   \n",
        "\n"
      ]
    },
    {
      "metadata": {
        "id": "KpTEJ-HtCpOQ",
        "colab_type": "code",
        "colab": {}
      },
      "cell_type": "code",
      "source": [
        ""
      ],
      "execution_count": 0,
      "outputs": []
    },
    {
      "metadata": {
        "id": "JwvFPkmAKAKJ",
        "colab_type": "text"
      },
      "cell_type": "markdown",
      "source": [
        "#Google Colab Specifics\n",
        "\n",
        "\n",
        "\n",
        "1.   Quite a few libraries are available to use in google colab, still if you want, you may use the following command to install a new one.\n",
        "!pip install name_of_library\n",
        "e.g. !pip3 install torch torchvision\n",
        "\n",
        "2.   List item\n",
        "\n",
        "\n"
      ]
    }
  ]
}