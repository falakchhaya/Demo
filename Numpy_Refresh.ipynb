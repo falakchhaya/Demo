{
  "nbformat": 4,
  "nbformat_minor": 0,
  "metadata": {
    "colab": {
      "name": ".ipynb",
      "version": "0.3.2",
      "provenance": [],
      "include_colab_link": true
    },
    "kernelspec": {
      "name": "python3",
      "display_name": "Python 3"
    }
  },
  "cells": [
    {
      "cell_type": "markdown",
      "metadata": {
        "id": "view-in-github",
        "colab_type": "text"
      },
      "source": [
        "<a href=\"https://colab.research.google.com/github/falakchhaya/Demo/blob/master/Numpy_Refresh.ipynb\" target=\"_parent\"><img src=\"https://colab.research.google.com/assets/colab-badge.svg\" alt=\"Open In Colab\"/></a>"
      ]
    },
    {
      "metadata": {
        "id": "ICFBBmOCrzx8",
        "colab_type": "code",
        "colab": {}
      },
      "cell_type": "code",
      "source": [
        ""
      ],
      "execution_count": 0,
      "outputs": []
    },
    {
      "metadata": {
        "id": "7qI1SYuhZDLE",
        "colab_type": "text"
      },
      "cell_type": "markdown",
      "source": [
        "Let's try to refresh Numpy, shall we ?\n",
        "According to it's official page,\n",
        "\n",
        "NumPy is the fundamental package for scientific computing with Python. It contains among other things:\n",
        "\n",
        "-- a powerful N-dimensional array object\n",
        "-- sophisticated (broadcasting) functions\n",
        "-- tools for integrating C/C++ and Fortran code\n",
        "-- useful linear algebra, Fourier transform, and random number capabilities\n",
        "-- Besides its obvious scientific uses, NumPy can also be used as an efficient multi-dimensional container of generic data. Arbitrary data-types can be defined. This allows NumPy to seamlessly and speedily integrate with a wide variety of databases.\n",
        "\n",
        "NumPy is licensed under the BSD license, enabling reuse with few restrictions."
      ]
    }
  ]
}