{
  "nbformat": 4,
  "nbformat_minor": 0,
  "metadata": {
    "colab": {
      "name": "KiteConnect_HistoricalData_Concise.ipynb",
      "provenance": [],
      "collapsed_sections": [],
      "mount_file_id": "1EX1EwrtPq-zCda09MB15qgx-uEDeNcUd",
      "authorship_tag": "ABX9TyOobwmSeiUVuUH5/2CCtuN8",
      "include_colab_link": true
    },
    "kernelspec": {
      "name": "python3",
      "display_name": "Python 3"
    },
    "language_info": {
      "name": "python"
    }
  },
  "cells": [
    {
      "cell_type": "markdown",
      "metadata": {
        "id": "view-in-github",
        "colab_type": "text"
      },
      "source": [
        "<a href=\"https://colab.research.google.com/github/falakchhaya/Demo/blob/master/KiteConnect_HistoricalData_Concise.ipynb\" target=\"_parent\"><img src=\"https://colab.research.google.com/assets/colab-badge.svg\" alt=\"Open In Colab\"/></a>"
      ]
    },
    {
      "cell_type": "code",
      "metadata": {
        "id": "24MVK50Xn6q_"
      },
      "source": [
        "######## These are the variables that you need to set.\n",
        "\n",
        "## This is what you send me every morning. Needs to be updated everyday after 7:30 AM\n",
        "accessToken = \"TOPJzZ7CwyzBL0xbMxxoCPm4o74ilHEK\" \n",
        "\n",
        "# Candle timeframe\n",
        "interval_at_which_data_required = '5minute' \n",
        "\n",
        "# All possible values for candle timeframe\n",
        "# 'minute', '3minute', '5minute', '10minute', '15minute', '30minute','60minute', 'day'\n",
        "\n",
        "# Path to the folder in your Google Drive where you want to save the output\n",
        "pathToFolder = '/content/drive/MyDrive/KiteConnect/'\n"
      ],
      "execution_count": 9,
      "outputs": []
    },
    {
      "cell_type": "code",
      "metadata": {
        "id": "SbnS7mGMvwQL"
      },
      "source": [
        "!pip install kiteconnect"
      ],
      "execution_count": null,
      "outputs": []
    },
    {
      "cell_type": "code",
      "metadata": {
        "id": "vQjdSODzxg2g"
      },
      "source": [
        "# Fetching some important libraries\n",
        "from datetime import datetime, timedelta\n",
        "from kiteconnect import KiteConnect \n",
        "import pandas as pd"
      ],
      "execution_count": 3,
      "outputs": []
    },
    {
      "cell_type": "code",
      "metadata": {
        "id": "MwiUP7dHxh33"
      },
      "source": [
        "# DO NOT SHARE THESE CODES !\n",
        "apiKey=\"apec8b5w2brxbydr\"\n",
        "apiSecret=\"eizb42d3o0orsi7k6ecfivdxm5axk4yl\"\n",
        "\n",
        "# Setting credentials for KiteConnect\n",
        "kite = KiteConnect(api_key=apiKey)\n",
        "kite.set_access_token(accessToken)\n",
        "# print(kite.login_url())\n"
      ],
      "execution_count": 4,
      "outputs": []
    },
    {
      "cell_type": "markdown",
      "metadata": {
        "id": "VkyKUZhaovPt"
      },
      "source": [
        "# Let's check the connection by fetching some example data"
      ]
    },
    {
      "cell_type": "code",
      "metadata": {
        "id": "Zw5I5AKsx1Di"
      },
      "source": [
        "# Quick connection check\n",
        "\n",
        "token = 260105 #136247044  #128008708\n",
        "toDate = datetime.now() \n",
        "fromDate = toDate-timedelta(days=10)\n",
        "print(fromDate, ' to ', toDate)\n",
        "\n",
        "interval='3minute'\n",
        "oi=0\n",
        "\n",
        "data = kite.historical_data(token,fromDate, toDate, interval,oi)\n",
        "df = pd.DataFrame(data)\n",
        "print(df.shape)\n",
        "print(df.head(10))\n",
        "\n",
        "# If there is no error below and you can see some data, it means the connection is working fine."
      ],
      "execution_count": null,
      "outputs": []
    },
    {
      "cell_type": "markdown",
      "metadata": {
        "id": "v8qp5cFkyHaW"
      },
      "source": [
        "\n",
        "## Kite Connect connection is working fine. Let's get nifty-50 names and tokens. For that, let's connect to Google Drive.\n"
      ]
    },
    {
      "cell_type": "code",
      "metadata": {
        "id": "Mk3zgFPjx_Lm"
      },
      "source": [
        "# One has to authorize access to Google drive once.\n",
        "# Once every day, click on the link below, copy the code from there, past it here and press enter.\n",
        "from google.colab import auth\n",
        "auth.authenticate_user()\n",
        "\n",
        "import gspread\n",
        "from oauth2client.client import GoogleCredentials\n",
        "gc = gspread.authorize(GoogleCredentials.get_application_default())"
      ],
      "execution_count": 6,
      "outputs": []
    },
    {
      "cell_type": "code",
      "metadata": {
        "id": "mnpsWI6Tyldo"
      },
      "source": [
        "# This file should exist in your Google Sheets. \n",
        "# It would contain the instrument token of desired scripts.\n",
        "# Ideally this file contains following columns, 'Company Name', 'Symbol', 'InstrumentToken'\n",
        " \n",
        "worksheet = gc.open('Nifty50_withTokens').sheet1\n",
        "\n",
        "# get_all_values gives a list of rows.\n",
        "rows = worksheet.get_all_values()\n",
        "# print(rows)\n",
        "\n",
        "pf = pd.DataFrame.from_records(rows)\n",
        "\n",
        "pf.columns = pf.iloc[0]\n",
        "pf.drop(index=0, inplace=True)\n",
        "pf.head() #Let's see how this data from google sheet looks like"
      ],
      "execution_count": null,
      "outputs": []
    },
    {
      "cell_type": "markdown",
      "metadata": {
        "id": "-9XDCQhN4fBC"
      },
      "source": [
        "## Connection works fine, nifty-50 symbols are fetched. Main task now."
      ]
    },
    {
      "cell_type": "code",
      "metadata": {
        "colab": {
          "base_uri": "https://localhost:8080/"
        },
        "id": "HBQLnvB_WnAT",
        "outputId": "a16fdcd6-2101-4f0a-94fe-d4f876f84ee2"
      },
      "source": [
        "print(\"Number of scripts/instruments : {}\".format(pf.shape[0]))"
      ],
      "execution_count": 8,
      "outputs": [
        {
          "output_type": "stream",
          "text": [
            "Number of scripts/instruments : 52\n"
          ],
          "name": "stdout"
        }
      ]
    },
    {
      "cell_type": "code",
      "metadata": {
        "id": "ub7Szk1L0Tyo"
      },
      "source": [
        "import time\n",
        "\n",
        "\n",
        "overViewData = pd.DataFrame(columns=['token', 'label', 'numOfRows'])\n",
        "\n",
        "for i in range(pf.shape[0]): \n",
        "\n",
        "  companyName = pf.iloc[i]['Company Name']\n",
        "  symbol = pf.iloc[i]['Symbol']\n",
        "  token = pf.iloc[i]['InstrumentToken']\n",
        "  interval = interval_at_which_data_required\n",
        "  d = 20   # number of days for which data is to be fetched at once.\n",
        "  failCounter = 0\n",
        "  zeroDataCounter = 0\n",
        "\n",
        "  toDate = datetime.now()\n",
        "  fromDate = toDate-timedelta(days=d)\n",
        "\n",
        "  df = pd.DataFrame(columns=['date', 'open', 'high', 'low', 'close', 'volume'])  \n",
        "  \n",
        "  print(\"\\n\")\n",
        "  print(str(i+1), symbol)  \n",
        "\n",
        "  for i in range(0,200):  # outer loop\n",
        "    \n",
        "    try:\n",
        "      data = kite.historical_data(token,fromDate, toDate, interval,oi)\n",
        "    \n",
        "      df_temp = pd.DataFrame(data)\n",
        "      df = pd.concat([df,df_temp], ignore_index=True)\n",
        "      data.clear()\n",
        "\n",
        "      if df_temp.shape[0] == 0:\n",
        "        print(\"Counter No {}: zero data\".format(i+1))\n",
        "        zeroDataCounter +=1      \n",
        "\n",
        "      del df_temp \n",
        "      toDate = fromDate\n",
        "      fromDate = toDate-timedelta(days=d)\n",
        "      time.sleep(1)\n",
        "\n",
        "      if zeroDataCounter >15:\n",
        "        print(\"Counter No {}\".format(i+1))\n",
        "        print(\"{}: No data for more than 25 rows... Breaking...\".format(symbol))\n",
        "        break\n",
        "\n",
        "    except:\n",
        "      print(\"Counter No {}\".format(i+1))\n",
        "      print(\"error, from {} to {}\".format(fromDate, toDate))\n",
        "      failCounter += 1      \n",
        "      if failCounter>10:\n",
        "        print('{} encounterd error >10 times... breaking'.format(symbol))\n",
        "        break\n",
        "      time.sleep(2)\n",
        "\n",
        "    \n",
        "\n",
        "\n",
        "  df = df.sort_values(by='date').reset_index(drop=True)\n",
        "  suffix = '_' + interval_at_which_data_required + '.csv'\n",
        "  fileName = pathToFolder + str(symbol) + suffix\n",
        "  df.to_csv(fileName)\n",
        "  print(df.shape)\n",
        "  new_row = {'token':token , 'label': symbol, 'numOfRows':df.shape[0]}\n",
        "  overViewData = overViewData.append(new_row, ignore_index=True)\n",
        "  del df\n",
        "\n",
        "\n",
        "# "
      ],
      "execution_count": null,
      "outputs": []
    },
    {
      "cell_type": "code",
      "metadata": {
        "id": "YilEthYd5hg-"
      },
      "source": [
        "\n",
        "# This is for saving an overview, i.e. how many rows are there in each script.\n",
        "fileName2 = pathToFolder + '01_Overview_' + interval_at_which_data_required + '.csv'\n",
        "overViewData.to_csv(fileName2)\n",
        "overViewData"
      ],
      "execution_count": null,
      "outputs": []
    }
  ]
}