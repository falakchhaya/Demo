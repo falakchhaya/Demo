{
  "nbformat": 4,
  "nbformat_minor": 0,
  "metadata": {
    "colab": {
      "name": "Different things with Recursion.ipynb",
      "provenance": [],
      "collapsed_sections": [],
      "authorship_tag": "ABX9TyMKoz5zYSF0KQrbNWxdF2Aq",
      "include_colab_link": true
    },
    "kernelspec": {
      "name": "python3",
      "display_name": "Python 3"
    }
  },
  "cells": [
    {
      "cell_type": "markdown",
      "metadata": {
        "id": "view-in-github",
        "colab_type": "text"
      },
      "source": [
        "<a href=\"https://colab.research.google.com/github/falakchhaya/Demo/blob/master/Different_things_with_Recursion.ipynb\" target=\"_parent\"><img src=\"https://colab.research.google.com/assets/colab-badge.svg\" alt=\"Open In Colab\"/></a>"
      ]
    },
    {
      "cell_type": "markdown",
      "metadata": {
        "id": "0fg6dy-4Cnxm"
      },
      "source": [
        ""
      ]
    },
    {
      "cell_type": "markdown",
      "metadata": {
        "id": "ovXSKTmJCqym"
      },
      "source": [
        "##Various trials on resursion for practise##"
      ]
    },
    {
      "cell_type": "markdown",
      "metadata": {
        "id": "pYmAY2hnC2Qk"
      },
      "source": [
        "How to find the sum of digits of a positive integer number <br>\r\n",
        "\r\n",
        "There are two ways we can do it. Recursive and Iterative.\r\n",
        "Let's try to time them as well. <br>\r\n",
        "\r\n",
        "Recursive <br>\r\n",
        "-- Get the number<br>\r\n",
        "-- divide the number (and subsequently the quotient) by 10 by calling the same fn till the division<10. (**division < 10** is the condition to break it) <br>\r\n",
        "-- at each step of division add remainder to the sum(target variable). Add the last quotient (the one <10) to the sum as well. <br>\r\n",
        "----- (1) Fn - divide the num by 10, keep adding remainder to the sum<br>\r\n",
        "----- (2) **Breaking Condition - quotient<10**, then add the quotient to the sum as well <br>\r\n",
        "----- (3) Constraint - the number is positive integer. Though this can be handeled for negative integers as well by taking absolute value. <br>"
      ]
    },
    {
      "cell_type": "code",
      "metadata": {
        "id": "CdeLXnsjIfOl",
        "colab": {
          "base_uri": "https://localhost:8080/"
        },
        "outputId": "af9b9d55-b105-47d7-b699-fbf02793a1cd"
      },
      "source": [
        "#### Recursion\r\n",
        "#insert the positive integer number of interest\r\n",
        "number = 10\r\n",
        "sum=0 #Target variable - sum of the digits of n\r\n",
        "\r\n",
        "def sumOfDigits(n):\r\n",
        "\r\n",
        "  #constraint\r\n",
        "  assert n>0 and isinstance(n,int), 'Kya karte ji! The number has to be positive integer'\r\n",
        "\r\n",
        "  #Condition\r\n",
        "  if n<10:\r\n",
        "    return n\r\n",
        "\r\n",
        "  else:\r\n",
        "    quotient = n // 10\r\n",
        "    remainder = n % 10\r\n",
        "    s = sumOfDigits(quotient)\r\n",
        "    sum = s + remainder\r\n",
        "    return sum\r\n",
        "\r\n",
        "print(sumOfDigits(number))"
      ],
      "execution_count": null,
      "outputs": [
        {
          "output_type": "stream",
          "text": [
            "1\n"
          ],
          "name": "stdout"
        }
      ]
    },
    {
      "cell_type": "code",
      "metadata": {
        "id": "kq069WAUevpq"
      },
      "source": [
        "### Iterative version of the same code\r\n"
      ],
      "execution_count": null,
      "outputs": []
    },
    {
      "cell_type": "markdown",
      "metadata": {
        "id": "fBTXZB2LgYk9"
      },
      "source": [
        ""
      ]
    }
  ]
}